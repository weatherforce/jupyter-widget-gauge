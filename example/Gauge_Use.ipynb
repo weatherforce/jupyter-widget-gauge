{
 "cells": [
  {
   "cell_type": "markdown",
   "metadata": {},
   "source": [
    "# Gauge "
   ]
  },
  {
   "cell_type": "code",
   "execution_count": 4,
   "metadata": {},
   "outputs": [],
   "source": [
    "from jupyter_widget_gauge import gauge"
   ]
  },
  {
   "cell_type": "code",
   "execution_count": 5,
   "metadata": {},
   "outputs": [
    {
     "data": {
      "application/vnd.jupyter.widget-view+json": {
       "model_id": "5a2d0befe6a040a28b13bcb964d2070b",
       "version_major": 2,
       "version_minor": 0
      },
      "text/plain": [
       "GaugeWidget(indicator=100, props={'nrOfLevels': 30, 'percent': 0.2, 'id': 'gaugeOne'}, stade='waouh')"
      ]
     },
     "metadata": {},
     "output_type": "display_data"
    }
   ],
   "source": [
    "props = {'nrOfLevels': 30, \"percent\": 0.2, \"id\": \"gaugeOne\"}\n",
    "go = gauge.GaugeWidget(props, indice=12, stade=\"waouh\")\n",
    "go "
   ]
  },
  {
   "cell_type": "code",
   "execution_count": null,
   "metadata": {},
   "outputs": [],
   "source": []
  }
 ],
 "metadata": {
  "kernelspec": {
   "display_name": "Python 3",
   "language": "python",
   "name": "python3"
  },
  "language_info": {
   "codemirror_mode": {
    "name": "ipython",
    "version": 3
   },
   "file_extension": ".py",
   "mimetype": "text/x-python",
   "name": "python",
   "nbconvert_exporter": "python",
   "pygments_lexer": "ipython3",
   "version": "3.6.9"
  }
 },
 "nbformat": 4,
 "nbformat_minor": 4
}
